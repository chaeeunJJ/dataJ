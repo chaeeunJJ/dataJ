{
 "cells": [
  {
   "cell_type": "code",
   "execution_count": 1,
   "id": "624e229e",
   "metadata": {},
   "outputs": [],
   "source": [
    "import pandas as pd\n",
    "import numpy as np\n",
    "import matplotlib.pyplot as plt"
   ]
  },
  {
   "cell_type": "code",
   "execution_count": 2,
   "id": "b3a1075b",
   "metadata": {},
   "outputs": [],
   "source": [
    "from sklearn.neighbors import KNeighborsRegressor\n",
    "from sklearn.model_selection import train_test_split\n",
    "from sklearn.metrics import mean_squared_error\n",
    "from math import sqrt"
   ]
  },
  {
   "cell_type": "code",
   "execution_count": 3,
   "id": "f246b814",
   "metadata": {},
   "outputs": [
    {
     "data": {
      "text/html": [
       "<div>\n",
       "<style scoped>\n",
       "    .dataframe tbody tr th:only-of-type {\n",
       "        vertical-align: middle;\n",
       "    }\n",
       "\n",
       "    .dataframe tbody tr th {\n",
       "        vertical-align: top;\n",
       "    }\n",
       "\n",
       "    .dataframe thead th {\n",
       "        text-align: right;\n",
       "    }\n",
       "</style>\n",
       "<table border=\"1\" class=\"dataframe\">\n",
       "  <thead>\n",
       "    <tr style=\"text-align: right;\">\n",
       "      <th></th>\n",
       "      <th>MedInc</th>\n",
       "      <th>HouseAge</th>\n",
       "      <th>AveRooms</th>\n",
       "      <th>AveBedrms</th>\n",
       "      <th>Population</th>\n",
       "      <th>AveOccup</th>\n",
       "      <th>Latitude</th>\n",
       "      <th>Longitude</th>\n",
       "      <th>target</th>\n",
       "    </tr>\n",
       "  </thead>\n",
       "  <tbody>\n",
       "    <tr>\n",
       "      <th>0</th>\n",
       "      <td>8.3252</td>\n",
       "      <td>41.0</td>\n",
       "      <td>6.984127</td>\n",
       "      <td>1.023810</td>\n",
       "      <td>322.0</td>\n",
       "      <td>2.555556</td>\n",
       "      <td>37.88</td>\n",
       "      <td>-122.23</td>\n",
       "      <td>4.526</td>\n",
       "    </tr>\n",
       "    <tr>\n",
       "      <th>1</th>\n",
       "      <td>8.3014</td>\n",
       "      <td>21.0</td>\n",
       "      <td>6.238137</td>\n",
       "      <td>0.971880</td>\n",
       "      <td>2401.0</td>\n",
       "      <td>2.109842</td>\n",
       "      <td>37.86</td>\n",
       "      <td>-122.22</td>\n",
       "      <td>3.585</td>\n",
       "    </tr>\n",
       "    <tr>\n",
       "      <th>2</th>\n",
       "      <td>7.2574</td>\n",
       "      <td>52.0</td>\n",
       "      <td>8.288136</td>\n",
       "      <td>1.073446</td>\n",
       "      <td>496.0</td>\n",
       "      <td>2.802260</td>\n",
       "      <td>37.85</td>\n",
       "      <td>-122.24</td>\n",
       "      <td>3.521</td>\n",
       "    </tr>\n",
       "    <tr>\n",
       "      <th>3</th>\n",
       "      <td>5.6431</td>\n",
       "      <td>52.0</td>\n",
       "      <td>5.817352</td>\n",
       "      <td>1.073059</td>\n",
       "      <td>558.0</td>\n",
       "      <td>2.547945</td>\n",
       "      <td>37.85</td>\n",
       "      <td>-122.25</td>\n",
       "      <td>3.413</td>\n",
       "    </tr>\n",
       "    <tr>\n",
       "      <th>4</th>\n",
       "      <td>3.8462</td>\n",
       "      <td>52.0</td>\n",
       "      <td>6.281853</td>\n",
       "      <td>1.081081</td>\n",
       "      <td>565.0</td>\n",
       "      <td>2.181467</td>\n",
       "      <td>37.85</td>\n",
       "      <td>-122.25</td>\n",
       "      <td>3.422</td>\n",
       "    </tr>\n",
       "    <tr>\n",
       "      <th>...</th>\n",
       "      <td>...</td>\n",
       "      <td>...</td>\n",
       "      <td>...</td>\n",
       "      <td>...</td>\n",
       "      <td>...</td>\n",
       "      <td>...</td>\n",
       "      <td>...</td>\n",
       "      <td>...</td>\n",
       "      <td>...</td>\n",
       "    </tr>\n",
       "    <tr>\n",
       "      <th>20635</th>\n",
       "      <td>1.5603</td>\n",
       "      <td>25.0</td>\n",
       "      <td>5.045455</td>\n",
       "      <td>1.133333</td>\n",
       "      <td>845.0</td>\n",
       "      <td>2.560606</td>\n",
       "      <td>39.48</td>\n",
       "      <td>-121.09</td>\n",
       "      <td>0.781</td>\n",
       "    </tr>\n",
       "    <tr>\n",
       "      <th>20636</th>\n",
       "      <td>2.5568</td>\n",
       "      <td>18.0</td>\n",
       "      <td>6.114035</td>\n",
       "      <td>1.315789</td>\n",
       "      <td>356.0</td>\n",
       "      <td>3.122807</td>\n",
       "      <td>39.49</td>\n",
       "      <td>-121.21</td>\n",
       "      <td>0.771</td>\n",
       "    </tr>\n",
       "    <tr>\n",
       "      <th>20637</th>\n",
       "      <td>1.7000</td>\n",
       "      <td>17.0</td>\n",
       "      <td>5.205543</td>\n",
       "      <td>1.120092</td>\n",
       "      <td>1007.0</td>\n",
       "      <td>2.325635</td>\n",
       "      <td>39.43</td>\n",
       "      <td>-121.22</td>\n",
       "      <td>0.923</td>\n",
       "    </tr>\n",
       "    <tr>\n",
       "      <th>20638</th>\n",
       "      <td>1.8672</td>\n",
       "      <td>18.0</td>\n",
       "      <td>5.329513</td>\n",
       "      <td>1.171920</td>\n",
       "      <td>741.0</td>\n",
       "      <td>2.123209</td>\n",
       "      <td>39.43</td>\n",
       "      <td>-121.32</td>\n",
       "      <td>0.847</td>\n",
       "    </tr>\n",
       "    <tr>\n",
       "      <th>20639</th>\n",
       "      <td>2.3886</td>\n",
       "      <td>16.0</td>\n",
       "      <td>5.254717</td>\n",
       "      <td>1.162264</td>\n",
       "      <td>1387.0</td>\n",
       "      <td>2.616981</td>\n",
       "      <td>39.37</td>\n",
       "      <td>-121.24</td>\n",
       "      <td>0.894</td>\n",
       "    </tr>\n",
       "  </tbody>\n",
       "</table>\n",
       "<p>20640 rows × 9 columns</p>\n",
       "</div>"
      ],
      "text/plain": [
       "       MedInc  HouseAge  AveRooms  AveBedrms  Population  AveOccup  Latitude  \\\n",
       "0      8.3252      41.0  6.984127   1.023810       322.0  2.555556     37.88   \n",
       "1      8.3014      21.0  6.238137   0.971880      2401.0  2.109842     37.86   \n",
       "2      7.2574      52.0  8.288136   1.073446       496.0  2.802260     37.85   \n",
       "3      5.6431      52.0  5.817352   1.073059       558.0  2.547945     37.85   \n",
       "4      3.8462      52.0  6.281853   1.081081       565.0  2.181467     37.85   \n",
       "...       ...       ...       ...        ...         ...       ...       ...   \n",
       "20635  1.5603      25.0  5.045455   1.133333       845.0  2.560606     39.48   \n",
       "20636  2.5568      18.0  6.114035   1.315789       356.0  3.122807     39.49   \n",
       "20637  1.7000      17.0  5.205543   1.120092      1007.0  2.325635     39.43   \n",
       "20638  1.8672      18.0  5.329513   1.171920       741.0  2.123209     39.43   \n",
       "20639  2.3886      16.0  5.254717   1.162264      1387.0  2.616981     39.37   \n",
       "\n",
       "       Longitude  target  \n",
       "0        -122.23   4.526  \n",
       "1        -122.22   3.585  \n",
       "2        -122.24   3.521  \n",
       "3        -122.25   3.413  \n",
       "4        -122.25   3.422  \n",
       "...          ...     ...  \n",
       "20635    -121.09   0.781  \n",
       "20636    -121.21   0.771  \n",
       "20637    -121.22   0.923  \n",
       "20638    -121.32   0.847  \n",
       "20639    -121.24   0.894  \n",
       "\n",
       "[20640 rows x 9 columns]"
      ]
     },
     "execution_count": 3,
     "metadata": {},
     "output_type": "execute_result"
    }
   ],
   "source": [
    "#캘리포니아 데이터 불러오기\n",
    "from sklearn import datasets\n",
    "dataset = datasets.fetch_california_housing()\n",
    "df = pd.DataFrame(dataset.data, columns = dataset.feature_names)\n",
    "df['target'] = dataset.target\n",
    "df"
   ]
  },
  {
   "cell_type": "markdown",
   "id": "b05aa377",
   "metadata": {},
   "source": [
    "- MedInc: 중위소득\n",
    "- HouseAge: 건축물 중위연령\n",
    "- AveRooms: 방 개수\n",
    "- AveBedrms: 침실 개수\n",
    "- Population: 인구\n",
    "- AveOccup: 주택점유율\n",
    "- Latitude: 경도\n",
    "- Longtitude: 위도"
   ]
  },
  {
   "cell_type": "markdown",
   "id": "2034a92a",
   "metadata": {},
   "source": [
    "### 방의 개수 시각화"
   ]
  },
  {
   "cell_type": "code",
   "execution_count": 6,
   "id": "a959c66d",
   "metadata": {},
   "outputs": [
    {
     "data": {
      "text/plain": [
       "{'whiskers': [<matplotlib.lines.Line2D at 0x24c97a1e350>,\n",
       "  <matplotlib.lines.Line2D at 0x24c97a1ef10>],\n",
       " 'caps': [<matplotlib.lines.Line2D at 0x24c97a1fb10>,\n",
       "  <matplotlib.lines.Line2D at 0x24c97a20690>],\n",
       " 'boxes': [<matplotlib.lines.Line2D at 0x24c979df810>],\n",
       " 'medians': [<matplotlib.lines.Line2D at 0x24c97a21210>],\n",
       " 'fliers': [<matplotlib.lines.Line2D at 0x24c97a1f590>],\n",
       " 'means': []}"
      ]
     },
     "execution_count": 6,
     "metadata": {},
     "output_type": "execute_result"
    },
    {
     "data": {
      "image/png": "[encoded data removed]",
      "text/plain": [
       "<Figure size 640x480 with 1 Axes>"
      ]
     },
     "metadata": {},
     "output_type": "display_data"
    }
   ],
   "source": [
    "plt.boxplot(df['AveBedrms'])"
   ]
  },
  {
   "cell_type": "code",
   "execution_count": 5,
   "id": "82f46500",
   "metadata": {},
   "outputs": [
    {
     "data": {
      "text/plain": [
       "{'whiskers': [<matplotlib.lines.Line2D at 0x24c9704a890>,\n",
       "  <matplotlib.lines.Line2D at 0x24c9704b450>],\n",
       " 'caps': [<matplotlib.lines.Line2D at 0x24c9704be50>,\n",
       "  <matplotlib.lines.Line2D at 0x24c97054910>],\n",
       " 'boxes': [<matplotlib.lines.Line2D at 0x24c97049c50>],\n",
       " 'medians': [<matplotlib.lines.Line2D at 0x24c97055450>],\n",
       " 'fliers': [<matplotlib.lines.Line2D at 0x24c96fbdf10>],\n",
       " 'means': []}"
      ]
     },
     "execution_count": 5,
     "metadata": {},
     "output_type": "execute_result"
    },
    {
     "data": {
      "image/png": "[encoded data removed]",
      "text/plain": [
       "<Figure size 640x480 with 1 Axes>"
      ]
     },
     "metadata": {},
     "output_type": "display_data"
    }
   ],
   "source": [
    "plt.boxplot(df['AveRooms'])"
   ]
  },
  {
   "cell_type": "code",
   "execution_count": 9,
   "id": "8546a588",
   "metadata": {},
   "outputs": [
    {
     "data": {
      "text/plain": [
       "1914    5.00001\n",
       "1979    1.62500\n",
       "Name: target, dtype: float64"
      ]
     },
     "execution_count": 9,
     "metadata": {},
     "output_type": "execute_result"
    }
   ],
   "source": [
    "df[df['AveBedrms']>20]['target']"
   ]
  },
  {
   "cell_type": "code",
   "execution_count": 20,
   "id": "6c58ebe8",
   "metadata": {},
   "outputs": [
    {
     "data": {
      "text/plain": [
       "1914    5.00001\n",
       "1979    1.62500\n",
       "Name: target, dtype: float64"
      ]
     },
     "execution_count": 20,
     "metadata": {},
     "output_type": "execute_result"
    }
   ],
   "source": [
    "df[df['AveRooms']>120]['target']\n",
    "#boxplot에서 'AveBedrms'와 'AveRooms'의 상단에 표시된 2개의 데이터는 같은 데이터임을 알 수 있음.\n",
    "#한 개는 가장 높은 집값, 한 개는 평균 이하의 집값임."
   ]
  },
  {
   "cell_type": "code",
   "execution_count": 22,
   "id": "f0f9e785",
   "metadata": {},
   "outputs": [
    {
     "data": {
      "text/plain": [
       "2.068558169089147"
      ]
     },
     "execution_count": 22,
     "metadata": {},
     "output_type": "execute_result"
    }
   ],
   "source": [
    "df['target'].mean()"
   ]
  },
  {
   "cell_type": "code",
   "execution_count": 26,
   "id": "a6cd6542",
   "metadata": {},
   "outputs": [
    {
     "data": {
      "text/plain": [
       "MedInc          4.625000\n",
       "HouseAge       34.000000\n",
       "AveRooms      132.533333\n",
       "AveBedrms      34.066667\n",
       "Population     36.000000\n",
       "AveOccup        2.400000\n",
       "Latitude       38.800000\n",
       "Longitude    -120.080000\n",
       "target          1.625000\n",
       "Name: 1979, dtype: float64"
      ]
     },
     "execution_count": 26,
     "metadata": {},
     "output_type": "execute_result"
    }
   ],
   "source": [
    "df.iloc[1979, :]"
   ]
  },
  {
   "cell_type": "code",
   "execution_count": 27,
   "id": "b9140d88",
   "metadata": {},
   "outputs": [
    {
     "data": {
      "text/plain": [
       "MedInc          1.875000\n",
       "HouseAge       33.000000\n",
       "AveRooms      141.909091\n",
       "AveBedrms      25.636364\n",
       "Population     30.000000\n",
       "AveOccup        2.727273\n",
       "Latitude       38.910000\n",
       "Longitude    -120.100000\n",
       "target          5.000010\n",
       "Name: 1914, dtype: float64"
      ]
     },
     "execution_count": 27,
     "metadata": {},
     "output_type": "execute_result"
    }
   ],
   "source": [
    "df.iloc[1914, :]"
   ]
  },
  {
   "cell_type": "code",
   "execution_count": 28,
   "id": "2c3d75ed",
   "metadata": {},
   "outputs": [
    {
     "data": {
      "text/plain": [
       "{'whiskers': [<matplotlib.lines.Line2D at 0x21fb891dd50>,\n",
       "  <matplotlib.lines.Line2D at 0x21fb8845450>],\n",
       " 'caps': [<matplotlib.lines.Line2D at 0x21fb8844c50>,\n",
       "  <matplotlib.lines.Line2D at 0x21fb88fae90>],\n",
       " 'boxes': [<matplotlib.lines.Line2D at 0x21fb894a950>],\n",
       " 'medians': [<matplotlib.lines.Line2D at 0x21fb88a4050>],\n",
       " 'fliers': [<matplotlib.lines.Line2D at 0x21fb8936890>],\n",
       " 'means': []}"
      ]
     },
     "execution_count": 28,
     "metadata": {},
     "output_type": "execute_result"
    },
    {
     "data": {
      "image/png": "[encoded data removed]",
      "text/plain": [
       "<Figure size 640x480 with 1 Axes>"
      ]
     },
     "metadata": {},
     "output_type": "display_data"
    }
   ],
   "source": [
    "plt.boxplot(df['target'])"
   ]
  },
  {
   "cell_type": "code",
   "execution_count": 33,
   "id": "bbb25e27",
   "metadata": {},
   "outputs": [],
   "source": [
    "df_high = df[df['target']>4]\n",
    "df_low = df[df['target']<=4]"
   ]
  },
  {
   "cell_type": "code",
   "execution_count": 37,
   "id": "67c5970f",
   "metadata": {},
   "outputs": [
    {
     "data": {
      "text/plain": [
       "Text(0.5, 1.0, 'low_income')"
      ]
     },
     "execution_count": 37,
     "metadata": {},
     "output_type": "execute_result"
    },
    {
     "data": {
      "image/png": "[encoded data removed]",
      "text/plain": [
       "<Figure size 1000x800 with 2 Axes>"
      ]
     },
     "metadata": {},
     "output_type": "display_data"
    }
   ],
   "source": [
    "fig = plt.figure(figsize=(10,8))\n",
    "\n",
    "plt.subplot(3,2,1)\n",
    "plt.boxplot(df_high['MedInc'])\n",
    "plt.title('high_income')\n",
    "\n",
    "\n",
    "plt.subplot(3,2,2)\n",
    "plt.boxplot(df_low['MedInc'])\n",
    "plt.title('low_income')\n",
    "\n",
    "#주택가격에 따른 income의 boxplot을 확인해보면 df_high 그룹이 더 높은 income 분포를 나타냄.\n",
    "#소득과 주택가격은 비례관계라는 것을 알 수 있음"
   ]
  },
  {
   "cell_type": "code",
   "execution_count": null,
   "id": "cbf184b2",
   "metadata": {},
   "outputs": [],
   "source": []
  }
 ],
 "metadata": {
  "kernelspec": {
   "display_name": "Python 3 (ipykernel)",
   "language": "python",
   "name": "python3"
  },
  "language_info": {
   "codemirror_mode": {
    "name": "ipython",
    "version": 3
   },
   "file_extension": ".py",
   "mimetype": "text/x-python",
   "name": "python",
   "nbconvert_exporter": "python",
   "pygments_lexer": "ipython3",
   "version": "3.11.3"
  }
 },
 "nbformat": 4,
 "nbformat_minor": 5
}
