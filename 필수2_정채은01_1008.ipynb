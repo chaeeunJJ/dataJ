{
 "cells": [
  {
   "cell_type": "code",
   "execution_count": 1,
   "id": "fdf48b2b",
   "metadata": {},
   "outputs": [],
   "source": [
    "import pandas as pd\n",
    "import numpy as np\n",
    "import matplotlib.pyplot as plt"
   ]
  },
  {
   "cell_type": "code",
   "execution_count": 19,
   "id": "12065108",
   "metadata": {},
   "outputs": [],
   "source": [
    "from sklearn import datasets\n",
    "from sklearn.metrics import mean_squared_error\n",
    "from math import sqrt\n",
    "from sklearn.model_selection import train_test_split\n",
    "from sklearn.neighbors import KNeighborsRegressor\n",
    "dataset = datasets.fetch_california_housing()\n",
    "df = pd.DataFrame(dataset.data, columns=dataset.feature_names)\n",
    "df['target'] = dataset.target"
   ]
  },
  {
   "cell_type": "markdown",
   "id": "e31ec561",
   "metadata": {},
   "source": [
    "### KNNImputer\n",
    "- train data의 n_neighbors와 가장 가까운 이웃의 평균값을 사용하여 대치(유클리디안 거리 사용)\n",
    "    -> 원하는 인접 이웃 수의 가중 또는 가중 평균을 사용하여 결측값 대치"
   ]
  },
  {
   "cell_type": "code",
   "execution_count": 3,
   "id": "48f102aa",
   "metadata": {},
   "outputs": [],
   "source": [
    "#KNNImputer import\n",
    "from sklearn.impute import KNNImputer"
   ]
  },
  {
   "cell_type": "code",
   "execution_count": 4,
   "id": "8d7df3a0",
   "metadata": {},
   "outputs": [
    {
     "data": {
      "text/html": [
       "<div>\n",
       "<style scoped>\n",
       "    .dataframe tbody tr th:only-of-type {\n",
       "        vertical-align: middle;\n",
       "    }\n",
       "\n",
       "    .dataframe tbody tr th {\n",
       "        vertical-align: top;\n",
       "    }\n",
       "\n",
       "    .dataframe thead th {\n",
       "        text-align: right;\n",
       "    }\n",
       "</style>\n",
       "<table border=\"1\" class=\"dataframe\">\n",
       "  <thead>\n",
       "    <tr style=\"text-align: right;\">\n",
       "      <th></th>\n",
       "      <th>First</th>\n",
       "      <th>Second</th>\n",
       "      <th>Third</th>\n",
       "    </tr>\n",
       "  </thead>\n",
       "  <tbody>\n",
       "    <tr>\n",
       "      <th>0</th>\n",
       "      <td>80.0</td>\n",
       "      <td>10.0</td>\n",
       "      <td>80.0</td>\n",
       "    </tr>\n",
       "    <tr>\n",
       "      <th>1</th>\n",
       "      <td>100.0</td>\n",
       "      <td>20.0</td>\n",
       "      <td>NaN</td>\n",
       "    </tr>\n",
       "    <tr>\n",
       "      <th>2</th>\n",
       "      <td>20.0</td>\n",
       "      <td>55.0</td>\n",
       "      <td>70.0</td>\n",
       "    </tr>\n",
       "    <tr>\n",
       "      <th>3</th>\n",
       "      <td>NaN</td>\n",
       "      <td>60.0</td>\n",
       "      <td>60.0</td>\n",
       "    </tr>\n",
       "    <tr>\n",
       "      <th>4</th>\n",
       "      <td>65.0</td>\n",
       "      <td>NaN</td>\n",
       "      <td>88.0</td>\n",
       "    </tr>\n",
       "  </tbody>\n",
       "</table>\n",
       "</div>"
      ],
      "text/plain": [
       "   First  Second  Third\n",
       "0   80.0    10.0   80.0\n",
       "1  100.0    20.0    NaN\n",
       "2   20.0    55.0   70.0\n",
       "3    NaN    60.0   60.0\n",
       "4   65.0     NaN   88.0"
      ]
     },
     "execution_count": 4,
     "metadata": {},
     "output_type": "execute_result"
    }
   ],
   "source": [
    "#KNNImputer 예제\n",
    "data = {'First':[80, 100, 20, np.nan, 65],\n",
    "       'Second': [10, 20, 55, 60, np.nan],\n",
    "       'Third': [80, np.nan, 70, 60, 88]}\n",
    "Data = pd.DataFrame(data)\n",
    "Data"
   ]
  },
  {
   "cell_type": "code",
   "execution_count": 5,
   "id": "600c2f91",
   "metadata": {},
   "outputs": [
    {
     "data": {
      "text/html": [
       "<div>\n",
       "<style scoped>\n",
       "    .dataframe tbody tr th:only-of-type {\n",
       "        vertical-align: middle;\n",
       "    }\n",
       "\n",
       "    .dataframe tbody tr th {\n",
       "        vertical-align: top;\n",
       "    }\n",
       "\n",
       "    .dataframe thead th {\n",
       "        text-align: right;\n",
       "    }\n",
       "</style>\n",
       "<table border=\"1\" class=\"dataframe\">\n",
       "  <thead>\n",
       "    <tr style=\"text-align: right;\">\n",
       "      <th></th>\n",
       "      <th>0</th>\n",
       "      <th>1</th>\n",
       "      <th>2</th>\n",
       "    </tr>\n",
       "  </thead>\n",
       "  <tbody>\n",
       "    <tr>\n",
       "      <th>0</th>\n",
       "      <td>80.0</td>\n",
       "      <td>10.0</td>\n",
       "      <td>80.0</td>\n",
       "    </tr>\n",
       "    <tr>\n",
       "      <th>1</th>\n",
       "      <td>100.0</td>\n",
       "      <td>20.0</td>\n",
       "      <td>84.0</td>\n",
       "    </tr>\n",
       "    <tr>\n",
       "      <th>2</th>\n",
       "      <td>20.0</td>\n",
       "      <td>55.0</td>\n",
       "      <td>70.0</td>\n",
       "    </tr>\n",
       "    <tr>\n",
       "      <th>3</th>\n",
       "      <td>42.5</td>\n",
       "      <td>60.0</td>\n",
       "      <td>60.0</td>\n",
       "    </tr>\n",
       "    <tr>\n",
       "      <th>4</th>\n",
       "      <td>65.0</td>\n",
       "      <td>35.0</td>\n",
       "      <td>88.0</td>\n",
       "    </tr>\n",
       "  </tbody>\n",
       "</table>\n",
       "</div>"
      ],
      "text/plain": [
       "       0     1     2\n",
       "0   80.0  10.0  80.0\n",
       "1  100.0  20.0  84.0\n",
       "2   20.0  55.0  70.0\n",
       "3   42.5  60.0  60.0\n",
       "4   65.0  35.0  88.0"
      ]
     },
     "execution_count": 5,
     "metadata": {},
     "output_type": "execute_result"
    }
   ],
   "source": [
    "imputer = KNNImputer(n_neighbors=2)\n",
    "Data_filled = imputer.fit_transform(Data)\n",
    "pd.DataFrame(Data_filled)\n",
    "#이웃에 있는 값들과 근사값으로 채워지는 것을 확인할 수 있음\n",
    "#20과 65 사이의 결측치는 두 값의 평균으로 대치됨"
   ]
  },
  {
   "cell_type": "markdown",
   "id": "663ef4a1",
   "metadata": {},
   "source": [
    "### 캘리포니아 데이터 결측값 생성"
   ]
  },
  {
   "cell_type": "code",
   "execution_count": 6,
   "id": "befb335f",
   "metadata": {},
   "outputs": [
    {
     "data": {
      "text/html": [
       "<div>\n",
       "<style scoped>\n",
       "    .dataframe tbody tr th:only-of-type {\n",
       "        vertical-align: middle;\n",
       "    }\n",
       "\n",
       "    .dataframe tbody tr th {\n",
       "        vertical-align: top;\n",
       "    }\n",
       "\n",
       "    .dataframe thead th {\n",
       "        text-align: right;\n",
       "    }\n",
       "</style>\n",
       "<table border=\"1\" class=\"dataframe\">\n",
       "  <thead>\n",
       "    <tr style=\"text-align: right;\">\n",
       "      <th></th>\n",
       "      <th>MedInc</th>\n",
       "      <th>HouseAge</th>\n",
       "      <th>AveRooms</th>\n",
       "      <th>AveBedrms</th>\n",
       "      <th>Population</th>\n",
       "      <th>AveOccup</th>\n",
       "      <th>Latitude</th>\n",
       "      <th>Longitude</th>\n",
       "      <th>target</th>\n",
       "    </tr>\n",
       "  </thead>\n",
       "  <tbody>\n",
       "    <tr>\n",
       "      <th>0</th>\n",
       "      <td>8.3252</td>\n",
       "      <td>41.0</td>\n",
       "      <td>6.984127</td>\n",
       "      <td>1.023810</td>\n",
       "      <td>322.0</td>\n",
       "      <td>2.555556</td>\n",
       "      <td>37.88</td>\n",
       "      <td>-122.23</td>\n",
       "      <td>4.526</td>\n",
       "    </tr>\n",
       "    <tr>\n",
       "      <th>1</th>\n",
       "      <td>8.3014</td>\n",
       "      <td>21.0</td>\n",
       "      <td>6.238137</td>\n",
       "      <td>0.971880</td>\n",
       "      <td>2401.0</td>\n",
       "      <td>2.109842</td>\n",
       "      <td>37.86</td>\n",
       "      <td>-122.22</td>\n",
       "      <td>3.585</td>\n",
       "    </tr>\n",
       "    <tr>\n",
       "      <th>2</th>\n",
       "      <td>7.2574</td>\n",
       "      <td>52.0</td>\n",
       "      <td>8.288136</td>\n",
       "      <td>1.073446</td>\n",
       "      <td>496.0</td>\n",
       "      <td>2.802260</td>\n",
       "      <td>37.85</td>\n",
       "      <td>-122.24</td>\n",
       "      <td>3.521</td>\n",
       "    </tr>\n",
       "    <tr>\n",
       "      <th>3</th>\n",
       "      <td>5.6431</td>\n",
       "      <td>52.0</td>\n",
       "      <td>5.817352</td>\n",
       "      <td>1.073059</td>\n",
       "      <td>558.0</td>\n",
       "      <td>2.547945</td>\n",
       "      <td>37.85</td>\n",
       "      <td>-122.25</td>\n",
       "      <td>3.413</td>\n",
       "    </tr>\n",
       "    <tr>\n",
       "      <th>4</th>\n",
       "      <td>3.8462</td>\n",
       "      <td>52.0</td>\n",
       "      <td>6.281853</td>\n",
       "      <td>1.081081</td>\n",
       "      <td>565.0</td>\n",
       "      <td>2.181467</td>\n",
       "      <td>37.85</td>\n",
       "      <td>-122.25</td>\n",
       "      <td>3.422</td>\n",
       "    </tr>\n",
       "    <tr>\n",
       "      <th>...</th>\n",
       "      <td>...</td>\n",
       "      <td>...</td>\n",
       "      <td>...</td>\n",
       "      <td>...</td>\n",
       "      <td>...</td>\n",
       "      <td>...</td>\n",
       "      <td>...</td>\n",
       "      <td>...</td>\n",
       "      <td>...</td>\n",
       "    </tr>\n",
       "    <tr>\n",
       "      <th>20635</th>\n",
       "      <td>1.5603</td>\n",
       "      <td>25.0</td>\n",
       "      <td>5.045455</td>\n",
       "      <td>1.133333</td>\n",
       "      <td>845.0</td>\n",
       "      <td>2.560606</td>\n",
       "      <td>39.48</td>\n",
       "      <td>-121.09</td>\n",
       "      <td>0.781</td>\n",
       "    </tr>\n",
       "    <tr>\n",
       "      <th>20636</th>\n",
       "      <td>2.5568</td>\n",
       "      <td>18.0</td>\n",
       "      <td>6.114035</td>\n",
       "      <td>1.315789</td>\n",
       "      <td>356.0</td>\n",
       "      <td>3.122807</td>\n",
       "      <td>39.49</td>\n",
       "      <td>-121.21</td>\n",
       "      <td>0.771</td>\n",
       "    </tr>\n",
       "    <tr>\n",
       "      <th>20637</th>\n",
       "      <td>1.7000</td>\n",
       "      <td>17.0</td>\n",
       "      <td>5.205543</td>\n",
       "      <td>1.120092</td>\n",
       "      <td>1007.0</td>\n",
       "      <td>2.325635</td>\n",
       "      <td>39.43</td>\n",
       "      <td>-121.22</td>\n",
       "      <td>0.923</td>\n",
       "    </tr>\n",
       "    <tr>\n",
       "      <th>20638</th>\n",
       "      <td>1.8672</td>\n",
       "      <td>18.0</td>\n",
       "      <td>5.329513</td>\n",
       "      <td>1.171920</td>\n",
       "      <td>741.0</td>\n",
       "      <td>2.123209</td>\n",
       "      <td>39.43</td>\n",
       "      <td>-121.32</td>\n",
       "      <td>0.847</td>\n",
       "    </tr>\n",
       "    <tr>\n",
       "      <th>20639</th>\n",
       "      <td>2.3886</td>\n",
       "      <td>16.0</td>\n",
       "      <td>5.254717</td>\n",
       "      <td>1.162264</td>\n",
       "      <td>1387.0</td>\n",
       "      <td>2.616981</td>\n",
       "      <td>39.37</td>\n",
       "      <td>-121.24</td>\n",
       "      <td>0.894</td>\n",
       "    </tr>\n",
       "  </tbody>\n",
       "</table>\n",
       "<p>20640 rows × 9 columns</p>\n",
       "</div>"
      ],
      "text/plain": [
       "       MedInc  HouseAge  AveRooms  AveBedrms  Population  AveOccup  Latitude  \\\n",
       "0      8.3252      41.0  6.984127   1.023810       322.0  2.555556     37.88   \n",
       "1      8.3014      21.0  6.238137   0.971880      2401.0  2.109842     37.86   \n",
       "2      7.2574      52.0  8.288136   1.073446       496.0  2.802260     37.85   \n",
       "3      5.6431      52.0  5.817352   1.073059       558.0  2.547945     37.85   \n",
       "4      3.8462      52.0  6.281853   1.081081       565.0  2.181467     37.85   \n",
       "...       ...       ...       ...        ...         ...       ...       ...   \n",
       "20635  1.5603      25.0  5.045455   1.133333       845.0  2.560606     39.48   \n",
       "20636  2.5568      18.0  6.114035   1.315789       356.0  3.122807     39.49   \n",
       "20637  1.7000      17.0  5.205543   1.120092      1007.0  2.325635     39.43   \n",
       "20638  1.8672      18.0  5.329513   1.171920       741.0  2.123209     39.43   \n",
       "20639  2.3886      16.0  5.254717   1.162264      1387.0  2.616981     39.37   \n",
       "\n",
       "       Longitude  target  \n",
       "0        -122.23   4.526  \n",
       "1        -122.22   3.585  \n",
       "2        -122.24   3.521  \n",
       "3        -122.25   3.413  \n",
       "4        -122.25   3.422  \n",
       "...          ...     ...  \n",
       "20635    -121.09   0.781  \n",
       "20636    -121.21   0.771  \n",
       "20637    -121.22   0.923  \n",
       "20638    -121.32   0.847  \n",
       "20639    -121.24   0.894  \n",
       "\n",
       "[20640 rows x 9 columns]"
      ]
     },
     "execution_count": 6,
     "metadata": {},
     "output_type": "execute_result"
    }
   ],
   "source": [
    "df"
   ]
  },
  {
   "cell_type": "code",
   "execution_count": 7,
   "id": "a3a03d32",
   "metadata": {},
   "outputs": [
    {
     "data": {
      "text/plain": [
       "113"
      ]
     },
     "execution_count": 7,
     "metadata": {},
     "output_type": "execute_result"
    },
    {
     "data": {
      "image/png": "[encoded data removed]",
      "text/plain": [
       "<Figure size 640x480 with 1 Axes>"
      ]
     },
     "metadata": {},
     "output_type": "display_data"
    }
   ],
   "source": [
    "#약 100개의 결측값을 생성하기 위해 'MedInc'의 데이터 분포 확인\n",
    "plt.boxplot(df['MedInc'])\n",
    "len(df[df['MedInc'] > 12])"
   ]
  },
  {
   "cell_type": "code",
   "execution_count": 8,
   "id": "cd8e28df",
   "metadata": {},
   "outputs": [],
   "source": [
    "#MedInc이 12보다 큰 값은 결측값으로 대체\n",
    "df.loc[df['MedInc']>=12, 'MedInc'] = np.nan"
   ]
  },
  {
   "cell_type": "code",
   "execution_count": 9,
   "id": "aec54a36",
   "metadata": {},
   "outputs": [
    {
     "data": {
      "text/plain": [
       "MedInc        113\n",
       "HouseAge        0\n",
       "AveRooms        0\n",
       "AveBedrms       0\n",
       "Population      0\n",
       "AveOccup        0\n",
       "Latitude        0\n",
       "Longitude       0\n",
       "target          0\n",
       "dtype: int64"
      ]
     },
     "execution_count": 9,
     "metadata": {},
     "output_type": "execute_result"
    }
   ],
   "source": [
    "#결측값 생성 확인\n",
    "df.isna().sum()"
   ]
  },
  {
   "cell_type": "code",
   "execution_count": 10,
   "id": "ecd97036",
   "metadata": {},
   "outputs": [],
   "source": [
    "#결측값을 0과 평균으로 대치한 데이터 생성\n",
    "df_zero = df.fillna(0)\n",
    "df_mean = df.fillna(df['MedInc'].mean())"
   ]
  },
  {
   "cell_type": "code",
   "execution_count": 11,
   "id": "a8b079cd",
   "metadata": {},
   "outputs": [
    {
     "data": {
      "text/plain": [
       "MedInc        0\n",
       "HouseAge      0\n",
       "AveRooms      0\n",
       "AveBedrms     0\n",
       "Population    0\n",
       "AveOccup      0\n",
       "Latitude      0\n",
       "Longitude     0\n",
       "target        0\n",
       "dtype: int64"
      ]
     },
     "execution_count": 11,
     "metadata": {},
     "output_type": "execute_result"
    }
   ],
   "source": [
    "df_zero.isna().sum()"
   ]
  },
  {
   "cell_type": "code",
   "execution_count": 12,
   "id": "6df13548",
   "metadata": {},
   "outputs": [
    {
     "data": {
      "text/plain": [
       "MedInc        0\n",
       "HouseAge      0\n",
       "AveRooms      0\n",
       "AveBedrms     0\n",
       "Population    0\n",
       "AveOccup      0\n",
       "Latitude      0\n",
       "Longitude     0\n",
       "target        0\n",
       "dtype: int64"
      ]
     },
     "execution_count": 12,
     "metadata": {},
     "output_type": "execute_result"
    }
   ],
   "source": [
    "df_mean.isna().sum()"
   ]
  },
  {
   "cell_type": "code",
   "execution_count": 13,
   "id": "71c46678",
   "metadata": {},
   "outputs": [],
   "source": [
    "#KNNImputer를 사용하여 결측값 대치\n",
    "imputer = KNNImputer(n_neighbors=4)\n",
    "df_Knn = pd.DataFrame(imputer.fit_transform(df))"
   ]
  },
  {
   "cell_type": "code",
   "execution_count": 15,
   "id": "83596841",
   "metadata": {},
   "outputs": [
    {
     "data": {
      "text/plain": [
       "0    0\n",
       "1    0\n",
       "2    0\n",
       "3    0\n",
       "4    0\n",
       "5    0\n",
       "6    0\n",
       "7    0\n",
       "8    0\n",
       "dtype: int64"
      ]
     },
     "execution_count": 15,
     "metadata": {},
     "output_type": "execute_result"
    }
   ],
   "source": [
    "df_Knn.isna().sum()"
   ]
  },
  {
   "cell_type": "markdown",
   "id": "3ea78ac4",
   "metadata": {},
   "source": [
    "### 결측치 처리 방식별 RMSE값 확인"
   ]
  },
  {
   "cell_type": "code",
   "execution_count": 44,
   "id": "6bc499c2",
   "metadata": {},
   "outputs": [
    {
     "name": "stdout",
     "output_type": "stream",
     "text": [
      "RMSE  1 = 1.298860502717693\n",
      "RMSE  2 = 1.1610371647810946\n",
      "RMSE  3 = 1.123066710018776\n",
      "RMSE  4 = 1.1048895199653628\n",
      "RMSE  5 = 1.093512102472148\n",
      "RMSE  6 = 1.0894339256136332\n",
      "RMSE  7 = 1.0893482885476564\n",
      "RMSE  8 = 1.0886274704877539\n",
      "RMSE  9 = 1.0895196039657475\n",
      "RMSE  10 = 1.0908000985577546\n",
      "RMSE  11 = 1.0912555353985427\n",
      "RMSE  12 = 1.0935471318149854\n",
      "RMSE  13 = 1.0936417087330985\n",
      "RMSE  14 = 1.0962298849489012\n",
      "RMSE  15 = 1.0985648518612054\n",
      "RMSE  16 = 1.0990362924861987\n",
      "RMSE  17 = 1.1005928680194583\n",
      "RMSE  18 = 1.102412873885641\n",
      "RMSE  19 = 1.1028586102845883\n",
      "RMSE  20 = 1.1025256910870624\n",
      "RMSE  21 = 1.1037048376866012\n",
      "RMSE  22 = 1.105757039660361\n",
      "RMSE  23 = 1.1073449571848533\n",
      "RMSE  24 = 1.1091079646915363\n",
      "RMSE  25 = 1.110286718375651\n",
      "RMSE  26 = 1.1108627737787842\n",
      "RMSE  27 = 1.1109035942195467\n",
      "RMSE  28 = 1.1124281555594808\n",
      "RMSE  29 = 1.1141045349912888\n",
      "RMSE  30 = 1.1154060974743207\n",
      "RMSE  31 = 1.115577246052624\n",
      "RMSE  32 = 1.1166380057588559\n",
      "RMSE  33 = 1.1164516102869837\n",
      "RMSE  34 = 1.1169187350654806\n",
      "RMSE  35 = 1.1171341221829176\n",
      "RMSE  36 = 1.1185999219677303\n",
      "RMSE  37 = 1.119678667101286\n",
      "RMSE  38 = 1.12148107335337\n",
      "RMSE  39 = 1.1223474312332031\n",
      "RMSE  40 = 1.1231579763395294\n",
      "RMSE  41 = 1.1232596206464074\n",
      "RMSE  42 = 1.1231855661129306\n",
      "RMSE  43 = 1.1234525129207413\n",
      "RMSE  44 = 1.124296164733882\n",
      "RMSE  45 = 1.124771105358561\n",
      "RMSE  46 = 1.1256082229775248\n",
      "RMSE  47 = 1.12615972042064\n",
      "RMSE  48 = 1.1265085711565195\n",
      "RMSE  49 = 1.1272592462634714\n",
      "RMSE  50 = 1.1276037380815291\n",
      "RMSE  51 = 1.1279483546265792\n",
      "RMSE  52 = 1.1287076008910717\n",
      "RMSE  53 = 1.1299834606706884\n",
      "RMSE  54 = 1.1305559755219454\n",
      "RMSE  55 = 1.1310991967112367\n",
      "RMSE  56 = 1.1318687523443387\n",
      "RMSE  57 = 1.1321841878794299\n",
      "RMSE  58 = 1.1327067242447657\n",
      "RMSE  59 = 1.1332868131954295\n",
      "RMSE  60 = 1.1342628848443959\n",
      "RMSE  61 = 1.1347561423976427\n",
      "RMSE  62 = 1.135668824227682\n",
      "RMSE  63 = 1.1363251852874527\n",
      "RMSE  64 = 1.1367080981868956\n",
      "RMSE  65 = 1.1365532278106278\n",
      "RMSE  66 = 1.1367229277244697\n",
      "RMSE  67 = 1.1369774408202795\n",
      "RMSE  68 = 1.1367910904340066\n",
      "RMSE  69 = 1.1368872445154226\n",
      "RMSE  70 = 1.1366132039167767\n",
      "RMSE  71 = 1.1371199779540229\n",
      "RMSE  72 = 1.1374715682522532\n",
      "RMSE  73 = 1.137901544137628\n",
      "RMSE  74 = 1.137917834875678\n",
      "RMSE  75 = 1.138265785010226\n",
      "RMSE  76 = 1.1384799137315584\n",
      "RMSE  77 = 1.1385431773288286\n",
      "RMSE  78 = 1.138645622842632\n",
      "RMSE  79 = 1.1388804080024573\n",
      "RMSE  80 = 1.1392268143448965\n",
      "RMSE  81 = 1.1395152664422292\n",
      "RMSE  82 = 1.1393521657778776\n",
      "RMSE  83 = 1.1395522471590904\n",
      "RMSE  84 = 1.1395899074294074\n",
      "RMSE  85 = 1.139623068613732\n",
      "RMSE  86 = 1.1398036830308793\n",
      "RMSE  87 = 1.139893635741794\n",
      "RMSE  88 = 1.1400194465177875\n",
      "RMSE  89 = 1.1405301375808417\n",
      "RMSE  90 = 1.1405234958255293\n",
      "RMSE  91 = 1.1405424396627843\n",
      "RMSE  92 = 1.1403084516652124\n",
      "RMSE  93 = 1.1402075703538892\n",
      "RMSE  94 = 1.1405093664265402\n",
      "RMSE  95 = 1.1406243338833968\n",
      "RMSE  96 = 1.1405513312674107\n",
      "RMSE  97 = 1.1405990805627673\n",
      "RMSE  98 = 1.1408581963024576\n",
      "RMSE  99 = 1.1410835926497966\n",
      "RMSE  100 = 1.1413771367881542\n"
     ]
    }
   ],
   "source": [
    "#0으로 결측치 처리한 경우\n",
    "\n",
    "x_train, x_test, y_train, y_test = train_test_split(df_zero.drop('target', axis = 1), df_zero['target'], test_size = 0.3, random_state = 111)\n",
    "rmse_val = []\n",
    "for k in range(100):\n",
    "    k = k+1\n",
    "    model = KNeighborsRegressor(n_neighbors=k)\n",
    "    model.fit(x_train, y_train)\n",
    "    pred = model.predict(x_test)\n",
    "    error=sqrt(mean_squared_error(y_test, pred))\n",
    "    rmse_val.append(error)\n",
    "    print('RMSE ', k, '=', error)"
   ]
  },
  {
   "cell_type": "code",
   "execution_count": 26,
   "id": "fc39d668",
   "metadata": {},
   "outputs": [
    {
     "data": {
      "text/plain": [
       "<Axes: >"
      ]
     },
     "execution_count": 26,
     "metadata": {},
     "output_type": "execute_result"
    },
    {
     "data": {
      "image/png": "[encoded data removed]",
      "text/plain": [
       "<Figure size 640x480 with 1 Axes>"
      ]
     },
     "metadata": {},
     "output_type": "display_data"
    }
   ],
   "source": [
    "curve_0 = pd.DataFrame(rmse_val)\n",
    "curve_0.plot()"
   ]
  },
  {
   "cell_type": "code",
   "execution_count": 29,
   "id": "ca6e5938",
   "metadata": {},
   "outputs": [
    {
     "name": "stdout",
     "output_type": "stream",
     "text": [
      "RMSE  1 = 1.2938989576558646\n",
      "RMSE  2 = 1.1560958159514692\n",
      "RMSE  3 = 1.114297728954652\n",
      "RMSE  4 = 1.0934806215702308\n",
      "RMSE  5 = 1.0833493863770898\n",
      "RMSE  6 = 1.0803205535935279\n",
      "RMSE  7 = 1.0808269253610863\n",
      "RMSE  8 = 1.08095664822069\n",
      "RMSE  9 = 1.081639524724523\n",
      "RMSE  10 = 1.0826360454858084\n",
      "RMSE  11 = 1.0838195807613409\n",
      "RMSE  12 = 1.0861393948804314\n",
      "RMSE  13 = 1.0862598153766825\n",
      "RMSE  14 = 1.0886512405185893\n",
      "RMSE  15 = 1.0919145787688658\n",
      "RMSE  16 = 1.0930256035701966\n",
      "RMSE  17 = 1.0952333046979017\n",
      "RMSE  18 = 1.0970143584581729\n",
      "RMSE  19 = 1.097730452589235\n",
      "RMSE  20 = 1.0978342083156836\n",
      "RMSE  21 = 1.09893008762995\n",
      "RMSE  22 = 1.1012037288974974\n",
      "RMSE  23 = 1.1029416734318227\n",
      "RMSE  24 = 1.1047832985695352\n",
      "RMSE  25 = 1.1059767871404624\n",
      "RMSE  26 = 1.1064300080861609\n",
      "RMSE  27 = 1.106763236318584\n",
      "RMSE  28 = 1.1082555755981707\n",
      "RMSE  29 = 1.1100290717082724\n",
      "RMSE  30 = 1.1116960932411746\n",
      "RMSE  31 = 1.112093153640884\n",
      "RMSE  32 = 1.1132153500049282\n",
      "RMSE  33 = 1.1132041420058758\n",
      "RMSE  34 = 1.1136757290556762\n",
      "RMSE  35 = 1.1140409889386587\n",
      "RMSE  36 = 1.1154694718286866\n",
      "RMSE  37 = 1.1164620074179281\n",
      "RMSE  38 = 1.1182623231847355\n",
      "RMSE  39 = 1.1191935390262668\n",
      "RMSE  40 = 1.1202040782072122\n",
      "RMSE  41 = 1.12028999445088\n",
      "RMSE  42 = 1.1204577039156995\n",
      "RMSE  43 = 1.1208533814901511\n",
      "RMSE  44 = 1.1217166144425437\n",
      "RMSE  45 = 1.1223689771708216\n",
      "RMSE  46 = 1.1232888102185592\n",
      "RMSE  47 = 1.123998980709126\n",
      "RMSE  48 = 1.124385147796606\n",
      "RMSE  49 = 1.1250854076646875\n",
      "RMSE  50 = 1.1255291119617288\n",
      "RMSE  51 = 1.1259761725394328\n",
      "RMSE  52 = 1.1265864732258313\n",
      "RMSE  53 = 1.127907498938765\n",
      "RMSE  54 = 1.1285824935495588\n",
      "RMSE  55 = 1.1289776137400989\n",
      "RMSE  56 = 1.1295333555428826\n",
      "RMSE  57 = 1.1300125274183226\n",
      "RMSE  58 = 1.130639754835584\n",
      "RMSE  59 = 1.1312898256052892\n",
      "RMSE  60 = 1.1323188610501393\n",
      "RMSE  61 = 1.1327902979425468\n",
      "RMSE  62 = 1.13369534027635\n",
      "RMSE  63 = 1.1344476874469636\n",
      "RMSE  64 = 1.1350702651764801\n",
      "RMSE  65 = 1.1349736900277352\n",
      "RMSE  66 = 1.1349973119166228\n",
      "RMSE  67 = 1.1351989911630591\n",
      "RMSE  68 = 1.1350357551863937\n",
      "RMSE  69 = 1.1351057220667649\n",
      "RMSE  70 = 1.1349375975896203\n",
      "RMSE  71 = 1.1355176000884688\n",
      "RMSE  72 = 1.1357109014603313\n",
      "RMSE  73 = 1.1362453832080455\n",
      "RMSE  74 = 1.1362537768582295\n",
      "RMSE  75 = 1.1366793801362696\n",
      "RMSE  76 = 1.1369476648757393\n",
      "RMSE  77 = 1.1369707001512626\n",
      "RMSE  78 = 1.1370234735003848\n",
      "RMSE  79 = 1.1372560989845195\n",
      "RMSE  80 = 1.1376910676083654\n",
      "RMSE  81 = 1.13792287807795\n",
      "RMSE  82 = 1.1378556616528481\n",
      "RMSE  83 = 1.138086212335309\n",
      "RMSE  84 = 1.138241654064662\n",
      "RMSE  85 = 1.1381896195583294\n",
      "RMSE  86 = 1.1382149360788225\n",
      "RMSE  87 = 1.1384859806588472\n",
      "RMSE  88 = 1.1386156851050215\n",
      "RMSE  89 = 1.1392063999089022\n",
      "RMSE  90 = 1.1391778880834613\n",
      "RMSE  91 = 1.1391238462402653\n",
      "RMSE  92 = 1.1388315694885307\n",
      "RMSE  93 = 1.1388025626226224\n",
      "RMSE  94 = 1.1390856167253367\n",
      "RMSE  95 = 1.1392946702164108\n",
      "RMSE  96 = 1.1393815040780462\n",
      "RMSE  97 = 1.1394415399947326\n",
      "RMSE  98 = 1.139724126398423\n",
      "RMSE  99 = 1.1399027630217191\n",
      "RMSE  100 = 1.1401157060565423\n"
     ]
    }
   ],
   "source": [
    "#평균으로 결측치 처리한 경우\n",
    "\n",
    "x_train_1, x_test_1, y_train_1, y_test_1 = train_test_split(df_mean.drop('target', axis = 1), df_mean['target'], test_size = 0.3, random_state = 111)\n",
    "rmse_val_1 = []\n",
    "for k in range(100):\n",
    "    k = k+1\n",
    "    model = KNeighborsRegressor(n_neighbors=k)\n",
    "    model.fit(x_train_1, y_train_1)\n",
    "    pred_1 = model.predict(x_test_1)\n",
    "    error_1=sqrt(mean_squared_error(y_test_1, pred_1))\n",
    "    rmse_val_1.append(error_1)\n",
    "    print('RMSE ', k, '=', error_1)"
   ]
  },
  {
   "cell_type": "code",
   "execution_count": 30,
   "id": "1173cb37",
   "metadata": {},
   "outputs": [
    {
     "data": {
      "text/plain": [
       "<Axes: >"
      ]
     },
     "execution_count": 30,
     "metadata": {},
     "output_type": "execute_result"
    },
    {
     "data": {
      "image/png": "[encoded data removed]",
      "text/plain": [
       "<Figure size 640x480 with 1 Axes>"
      ]
     },
     "metadata": {},
     "output_type": "display_data"
    }
   ],
   "source": [
    "curve_1 = pd.DataFrame(rmse_val_1)\n",
    "curve_1.plot()"
   ]
  },
  {
   "cell_type": "code",
   "execution_count": 39,
   "id": "70fffdcf",
   "metadata": {},
   "outputs": [
    {
     "name": "stdout",
     "output_type": "stream",
     "text": [
      "RMSE  1 = 1.2875722027696757\n",
      "RMSE  2 = 1.146809341792897\n",
      "RMSE  3 = 1.1090882411745686\n",
      "RMSE  4 = 1.0892278227519374\n",
      "RMSE  5 = 1.0785300851618478\n",
      "RMSE  6 = 1.0760205608296893\n",
      "RMSE  7 = 1.076693901634216\n",
      "RMSE  8 = 1.0774138091498475\n",
      "RMSE  9 = 1.0781054100331326\n",
      "RMSE  10 = 1.0793894314572385\n",
      "RMSE  11 = 1.081157159473684\n",
      "RMSE  12 = 1.0839264408662659\n",
      "RMSE  13 = 1.084222958821545\n",
      "RMSE  14 = 1.0866122680701993\n",
      "RMSE  15 = 1.0894661578780196\n",
      "RMSE  16 = 1.0911784460851324\n",
      "RMSE  17 = 1.093242534880219\n",
      "RMSE  18 = 1.0951581821312113\n",
      "RMSE  19 = 1.095858796568564\n",
      "RMSE  20 = 1.0956864497261065\n",
      "RMSE  21 = 1.0971529812501946\n",
      "RMSE  22 = 1.0996449196242177\n",
      "RMSE  23 = 1.1011351396814746\n",
      "RMSE  24 = 1.103070017201367\n",
      "RMSE  25 = 1.1042039266867294\n",
      "RMSE  26 = 1.1047921893206292\n",
      "RMSE  27 = 1.1052367344877896\n",
      "RMSE  28 = 1.1068923001797677\n",
      "RMSE  29 = 1.1086490763641326\n",
      "RMSE  30 = 1.1100902283840934\n",
      "RMSE  31 = 1.1107597667115923\n",
      "RMSE  32 = 1.1118998611624038\n",
      "RMSE  33 = 1.1119159699490968\n",
      "RMSE  34 = 1.1124159225401204\n",
      "RMSE  35 = 1.1126615472241632\n",
      "RMSE  36 = 1.1143661233417026\n",
      "RMSE  37 = 1.1154148029508477\n",
      "RMSE  38 = 1.1172756393010728\n",
      "RMSE  39 = 1.1181991290145665\n",
      "RMSE  40 = 1.1191635886070992\n",
      "RMSE  41 = 1.1192881168193372\n",
      "RMSE  42 = 1.1194194497863876\n",
      "RMSE  43 = 1.1199129960848884\n",
      "RMSE  44 = 1.1209011220701195\n",
      "RMSE  45 = 1.1215106121980705\n",
      "RMSE  46 = 1.122417824606642\n",
      "RMSE  47 = 1.1230441328229184\n",
      "RMSE  48 = 1.123316659635841\n",
      "RMSE  49 = 1.1240568995192446\n",
      "RMSE  50 = 1.124516345663947\n",
      "RMSE  51 = 1.1249023521230903\n",
      "RMSE  52 = 1.1256004673764686\n",
      "RMSE  53 = 1.1266757315613485\n",
      "RMSE  54 = 1.1273342187508906\n",
      "RMSE  55 = 1.1280930834929468\n",
      "RMSE  56 = 1.1288698281366716\n",
      "RMSE  57 = 1.1292220760906586\n",
      "RMSE  58 = 1.129838905698811\n",
      "RMSE  59 = 1.1303515344941006\n",
      "RMSE  60 = 1.131412854226478\n",
      "RMSE  61 = 1.1320074664447264\n",
      "RMSE  62 = 1.1327872240028851\n",
      "RMSE  63 = 1.1335371667129928\n",
      "RMSE  64 = 1.1340056390841036\n",
      "RMSE  65 = 1.1340662819466147\n",
      "RMSE  66 = 1.134054150589867\n",
      "RMSE  67 = 1.1344774275688432\n",
      "RMSE  68 = 1.1343101620500646\n",
      "RMSE  69 = 1.134486813385241\n",
      "RMSE  70 = 1.1342926168803322\n",
      "RMSE  71 = 1.1347748207966757\n",
      "RMSE  72 = 1.1351899941131456\n",
      "RMSE  73 = 1.1355917468183732\n",
      "RMSE  74 = 1.1356020709714982\n",
      "RMSE  75 = 1.1360308961500383\n",
      "RMSE  76 = 1.1363417926486428\n",
      "RMSE  77 = 1.1364459038287114\n",
      "RMSE  78 = 1.1363390648356793\n",
      "RMSE  79 = 1.1366518787844087\n",
      "RMSE  80 = 1.1370424072634444\n",
      "RMSE  81 = 1.137329115154338\n",
      "RMSE  82 = 1.1372431333163189\n",
      "RMSE  83 = 1.137506475789129\n",
      "RMSE  84 = 1.1376643097175898\n",
      "RMSE  85 = 1.1377538984920115\n",
      "RMSE  86 = 1.1377745891283053\n",
      "RMSE  87 = 1.1380260429742572\n",
      "RMSE  88 = 1.1381233785488618\n",
      "RMSE  89 = 1.1387738112147174\n",
      "RMSE  90 = 1.138783509103889\n",
      "RMSE  91 = 1.138762568707667\n",
      "RMSE  92 = 1.1385250843653278\n",
      "RMSE  93 = 1.1384048057594685\n",
      "RMSE  94 = 1.1387337927450578\n",
      "RMSE  95 = 1.1387514586328868\n",
      "RMSE  96 = 1.1388323130917968\n",
      "RMSE  97 = 1.1388698421603671\n",
      "RMSE  98 = 1.1392213907978077\n",
      "RMSE  99 = 1.1394017259627156\n",
      "RMSE  100 = 1.1396562389409113\n"
     ]
    }
   ],
   "source": [
    "#KNNImputer으로 결측치 처리한 경우\n",
    "\n",
    "x_train_2, x_test_2, y_train_2, y_test_2 = train_test_split(df_Knn.drop(8, axis = 1), df_Knn[8], test_size = 0.3, random_state = 111)\n",
    "rmse_val_2 = []\n",
    "for k in range(100):\n",
    "    k = k+1\n",
    "    model = KNeighborsRegressor(n_neighbors=k)\n",
    "    model.fit(x_train_2, y_train_2)\n",
    "    pred_2 = model.predict(x_test_2)\n",
    "    error_2=sqrt(mean_squared_error(y_test_2, pred_2))\n",
    "    rmse_val_2.append(error_2)\n",
    "    print('RMSE ', k, '=', error_2)"
   ]
  },
  {
   "cell_type": "code",
   "execution_count": 43,
   "id": "f7177ca5",
   "metadata": {},
   "outputs": [
    {
     "data": {
      "text/plain": [
       "<Axes: >"
      ]
     },
     "execution_count": 43,
     "metadata": {},
     "output_type": "execute_result"
    },
    {
     "data": {
      "image/png": "[encoded data removed]",
      "text/plain": [
       "<Figure size 640x480 with 1 Axes>"
      ]
     },
     "metadata": {},
     "output_type": "display_data"
    }
   ],
   "source": [
    "curve_2 = pd.DataFrame(rmse_val_2)\n",
    "curve_2.plot()"
   ]
  },
  {
   "cell_type": "code",
   "execution_count": 54,
   "id": "ee1611af",
   "metadata": {},
   "outputs": [
    {
     "data": {
      "image/png": "[encoded data removed]",
      "text/plain": [
       "<Figure size 640x480 with 1 Axes>"
      ]
     },
     "metadata": {},
     "output_type": "display_data"
    }
   ],
   "source": [
    "plt.plot(curve_0, label='df_zero')\n",
    "plt.plot(curve_1, label='df_mean')\n",
    "plt.plot(curve_2, label='df_KnnImputer')\n",
    "\n",
    "plt.legend()\n",
    "plt.show()"
   ]
  },
  {
   "cell_type": "markdown",
   "id": "2d339c94",
   "metadata": {},
   "source": [
    "- 3개의 RMSE값 추이를 비교한 결과 일정 이상의 k값 이후에는 비슷하게 rmse가 수렴하는 것을 확인할 수 있음\n",
    "- RMSE의 최소값이 KnnImputer < mean < zero 순인 것을 확인할 수 있음\n",
    "- 결과적으로 해당 데이터셋에서는 KnnImputer가 가장 효과적인 RMSE 감소 추이를 보임"
   ]
  },
  {
   "cell_type": "code",
   "execution_count": null,
   "id": "2c8413ed",
   "metadata": {},
   "outputs": [],
   "source": []
  }
 ],
 "metadata": {
  "kernelspec": {
   "display_name": "Python 3 (ipykernel)",
   "language": "python",
   "name": "python3"
  },
  "language_info": {
   "codemirror_mode": {
    "name": "ipython",
    "version": 3
   },
   "file_extension": ".py",
   "mimetype": "text/x-python",
   "name": "python",
   "nbconvert_exporter": "python",
   "pygments_lexer": "ipython3",
   "version": "3.11.3"
  }
 },
 "nbformat": 4,
 "nbformat_minor": 5
}
